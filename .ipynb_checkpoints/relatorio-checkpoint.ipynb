{
 "cells": [
  {
   "cell_type": "code",
   "execution_count": 14,
   "id": "located-spirit",
   "metadata": {
    "scrolled": true
   },
   "outputs": [],
   "source": [
    "# rodar: import Pkg; Pkg.add(\"CSV\"); Pkg.add(\"DataFrames\"); para instalar antes\n",
    "\n",
    "using CSV\n",
    "using DataFrames"
   ]
  },
  {
   "cell_type": "code",
   "execution_count": 15,
   "id": "negative-berry",
   "metadata": {},
   "outputs": [
    {
     "data": {
      "text/html": [
       "<table class=\"data-frame\"><thead><tr><th></th><th>Algorithm</th><th>Image</th><th>Size</th><th>Threads</th><th>Time</th><th>Stddev</th><th>Clock</th><th>CPUs</th></tr><tr><th></th><th>String</th><th>String</th><th>Int64</th><th>Int64</th><th>Float64</th><th>Float64</th><th>String</th><th>Float64</th></tr></thead><tbody><p>10 rows × 13 columns (omitted printing of 5 columns)</p><tr><th>1</th><td>mandelbrot_seq</td><td>elephant.log</td><td>16</td><td>1</td><td>0.001221</td><td>4.25e-5</td><td>0.87</td><td>0.709</td></tr><tr><th>2</th><td>mandelbrot_seq</td><td>elephant.log</td><td>32</td><td>1</td><td>0.00255</td><td>0.000221</td><td>2.16</td><td>0.849</td></tr><tr><th>3</th><td>mandelbrot_seq</td><td>elephant.log</td><td>64</td><td>1</td><td>0.009084</td><td>0.000776</td><td>8.7</td><td>0.958</td></tr><tr><th>4</th><td>mandelbrot_seq</td><td>elephant.log</td><td>128</td><td>1</td><td>0.02641</td><td>0.000716</td><td>26.04</td><td>0.986</td></tr><tr><th>5</th><td>mandelbrot_seq</td><td>elephant.log</td><td>256</td><td>1</td><td>0.09824</td><td>0.00904</td><td>97.76</td><td>0.995</td></tr><tr><th>6</th><td>mandelbrot_seq</td><td>elephant.log</td><td>512</td><td>1</td><td>0.4908</td><td>0.0506</td><td>490.28</td><td>0.999</td></tr><tr><th>7</th><td>mandelbrot_seq</td><td>elephant.log</td><td>1024</td><td>1</td><td>1.4741</td><td>0.0414</td><td>1,473.59</td><td>1.0</td></tr><tr><th>8</th><td>mandelbrot_seq</td><td>elephant.log</td><td>2048</td><td>1</td><td>5.5715</td><td>0.0922</td><td>5,570.81</td><td>1.0</td></tr><tr><th>9</th><td>mandelbrot_seq</td><td>elephant.log</td><td>4096</td><td>1</td><td>21.435</td><td>0.104</td><td>21,430.33</td><td>1.0</td></tr><tr><th>10</th><td>mandelbrot_seq</td><td>elephant.log</td><td>8192</td><td>1</td><td>84.961</td><td>0.129</td><td>84,951.17</td><td>1.0</td></tr></tbody></table>"
      ],
      "text/latex": [
       "\\begin{tabular}{r|ccccccccc}\n",
       "\t& Algorithm & Image & Size & Threads & Time & Stddev & Clock & CPUs & \\\\\n",
       "\t\\hline\n",
       "\t& String & String & Int64 & Int64 & Float64 & Float64 & String & Float64 & \\\\\n",
       "\t\\hline\n",
       "\t1 & mandelbrot\\_seq & elephant.log & 16 & 1 & 0.001221 & 4.25e-5 & 0.87 & 0.709 & $\\dots$ \\\\\n",
       "\t2 & mandelbrot\\_seq & elephant.log & 32 & 1 & 0.00255 & 0.000221 & 2.16 & 0.849 & $\\dots$ \\\\\n",
       "\t3 & mandelbrot\\_seq & elephant.log & 64 & 1 & 0.009084 & 0.000776 & 8.7 & 0.958 & $\\dots$ \\\\\n",
       "\t4 & mandelbrot\\_seq & elephant.log & 128 & 1 & 0.02641 & 0.000716 & 26.04 & 0.986 & $\\dots$ \\\\\n",
       "\t5 & mandelbrot\\_seq & elephant.log & 256 & 1 & 0.09824 & 0.00904 & 97.76 & 0.995 & $\\dots$ \\\\\n",
       "\t6 & mandelbrot\\_seq & elephant.log & 512 & 1 & 0.4908 & 0.0506 & 490.28 & 0.999 & $\\dots$ \\\\\n",
       "\t7 & mandelbrot\\_seq & elephant.log & 1024 & 1 & 1.4741 & 0.0414 & 1,473.59 & 1.0 & $\\dots$ \\\\\n",
       "\t8 & mandelbrot\\_seq & elephant.log & 2048 & 1 & 5.5715 & 0.0922 & 5,570.81 & 1.0 & $\\dots$ \\\\\n",
       "\t9 & mandelbrot\\_seq & elephant.log & 4096 & 1 & 21.435 & 0.104 & 21,430.33 & 1.0 & $\\dots$ \\\\\n",
       "\t10 & mandelbrot\\_seq & elephant.log & 8192 & 1 & 84.961 & 0.129 & 84,951.17 & 1.0 & $\\dots$ \\\\\n",
       "\\end{tabular}\n"
      ],
      "text/plain": [
       "\u001b[1m10×13 DataFrame\u001b[0m\n",
       "\u001b[1m Row \u001b[0m│\u001b[1m Algorithm      \u001b[0m\u001b[1m Image        \u001b[0m\u001b[1m Size  \u001b[0m\u001b[1m Threads \u001b[0m\u001b[1m Time      \u001b[0m\u001b[1m Stddev   \u001b[0m\u001b[1m Cloc\u001b[0m ⋯\n",
       "\u001b[1m     \u001b[0m│\u001b[90m String         \u001b[0m\u001b[90m String       \u001b[0m\u001b[90m Int64 \u001b[0m\u001b[90m Int64   \u001b[0m\u001b[90m Float64   \u001b[0m\u001b[90m Float64  \u001b[0m\u001b[90m Stri\u001b[0m ⋯\n",
       "─────┼──────────────────────────────────────────────────────────────────────────\n",
       "   1 │ mandelbrot_seq  elephant.log     16        1   0.001221  4.25e-5   0.87 ⋯\n",
       "   2 │ mandelbrot_seq  elephant.log     32        1   0.00255   0.000221  2.16\n",
       "   3 │ mandelbrot_seq  elephant.log     64        1   0.009084  0.000776  8.7\n",
       "   4 │ mandelbrot_seq  elephant.log    128        1   0.02641   0.000716  26.0\n",
       "   5 │ mandelbrot_seq  elephant.log    256        1   0.09824   0.00904   97.7 ⋯\n",
       "   6 │ mandelbrot_seq  elephant.log    512        1   0.4908    0.0506    490.\n",
       "   7 │ mandelbrot_seq  elephant.log   1024        1   1.4741    0.0414    1,47\n",
       "   8 │ mandelbrot_seq  elephant.log   2048        1   5.5715    0.0922    5,57\n",
       "   9 │ mandelbrot_seq  elephant.log   4096        1  21.435     0.104     21,4 ⋯\n",
       "  10 │ mandelbrot_seq  elephant.log   8192        1  84.961     0.129     84,9\n",
       "\u001b[36m                                                               7 columns omitted\u001b[0m"
      ]
     },
     "execution_count": 15,
     "metadata": {},
     "output_type": "execute_result"
    }
   ],
   "source": [
    "df = DataFrame(CSV.File(\"results.tsv\", header=1, delim=\"\\t\"))\n",
    "first(df, 10)"
   ]
  },
  {
   "cell_type": "code",
   "execution_count": 16,
   "id": "introductory-poker",
   "metadata": {},
   "outputs": [
    {
     "data": {
      "text/html": [
       "<table class=\"data-frame\"><thead><tr><th></th><th>variable</th><th>mean</th><th>min</th><th>median</th><th>max</th><th>nmissing</th></tr><tr><th></th><th>Symbol</th><th>Union…</th><th>Any</th><th>Union…</th><th>Any</th><th>Int64</th></tr></thead><tbody><p>13 rows × 7 columns (omitted printing of 1 columns)</p><tr><th>1</th><td>Algorithm</td><td></td><td>mandelbrot_omp</td><td></td><td>mandelbrot_seq</td><td>0</td></tr><tr><th>2</th><td>Image</td><td></td><td>elephant.log</td><td></td><td>triple_spiral.log</td><td>0</td></tr><tr><th>3</th><td>Size</td><td>1636.8</td><td>16</td><td>384.0</td><td>8192</td><td>0</td></tr><tr><th>4</th><td>Threads</td><td>9.76923</td><td>1</td><td>4.0</td><td>32</td><td>0</td></tr><tr><th>5</th><td>Time</td><td>2.68384</td><td>0.0005556</td><td>0.005314</td><td>103.164</td><td>0</td></tr><tr><th>6</th><td>Stddev</td><td>0.0139304</td><td>7.69e-6</td><td>0.0002905</td><td>0.237</td><td>0</td></tr><tr><th>7</th><td>Clock</td><td></td><td>0.27</td><td></td><td>996.22</td><td>0</td></tr><tr><th>8</th><td>CPUs</td><td>4.18531</td><td>0.4</td><td>1.636</td><td>28.868</td><td>0</td></tr><tr><th>9</th><td>Cycles</td><td></td><td>1,025,999,471</td><td></td><td>98,973,475,178</td><td>0</td></tr><tr><th>10</th><td>Instructions</td><td></td><td>1,000,045</td><td></td><td>999,835</td><td>0</td></tr><tr><th>11</th><td>IO</td><td>0.0</td><td>0</td><td>0.0</td><td>0</td><td>0</td></tr><tr><th>12</th><td>MemAlloc</td><td>0.333333</td><td>0</td><td>0.0</td><td>1</td><td>0</td></tr><tr><th>13</th><td>O3</td><td>0.333333</td><td>0</td><td>0.0</td><td>1</td><td>0</td></tr></tbody></table>"
      ],
      "text/latex": [
       "\\begin{tabular}{r|ccccccc}\n",
       "\t& variable & mean & min & median & max & nmissing & \\\\\n",
       "\t\\hline\n",
       "\t& Symbol & Union… & Any & Union… & Any & Int64 & \\\\\n",
       "\t\\hline\n",
       "\t1 & Algorithm &  & mandelbrot\\_omp &  & mandelbrot\\_seq & 0 & $\\dots$ \\\\\n",
       "\t2 & Image &  & elephant.log &  & triple\\_spiral.log & 0 & $\\dots$ \\\\\n",
       "\t3 & Size & 1636.8 & 16 & 384.0 & 8192 & 0 & $\\dots$ \\\\\n",
       "\t4 & Threads & 9.76923 & 1 & 4.0 & 32 & 0 & $\\dots$ \\\\\n",
       "\t5 & Time & 2.68384 & 0.0005556 & 0.005314 & 103.164 & 0 & $\\dots$ \\\\\n",
       "\t6 & Stddev & 0.0139304 & 7.69e-6 & 0.0002905 & 0.237 & 0 & $\\dots$ \\\\\n",
       "\t7 & Clock &  & 0.27 &  & 996.22 & 0 & $\\dots$ \\\\\n",
       "\t8 & CPUs & 4.18531 & 0.4 & 1.636 & 28.868 & 0 & $\\dots$ \\\\\n",
       "\t9 & Cycles &  & 1,025,999,471 &  & 98,973,475,178 & 0 & $\\dots$ \\\\\n",
       "\t10 & Instructions &  & 1,000,045 &  & 999,835 & 0 & $\\dots$ \\\\\n",
       "\t11 & IO & 0.0 & 0 & 0.0 & 0 & 0 & $\\dots$ \\\\\n",
       "\t12 & MemAlloc & 0.333333 & 0 & 0.0 & 1 & 0 & $\\dots$ \\\\\n",
       "\t13 & O3 & 0.333333 & 0 & 0.0 & 1 & 0 & $\\dots$ \\\\\n",
       "\\end{tabular}\n"
      ],
      "text/plain": [
       "\u001b[1m13×7 DataFrame\u001b[0m\n",
       "\u001b[1m Row \u001b[0m│\u001b[1m variable     \u001b[0m\u001b[1m mean      \u001b[0m\u001b[1m min            \u001b[0m\u001b[1m median    \u001b[0m\u001b[1m max               \u001b[0m\u001b[1m \u001b[0m ⋯\n",
       "\u001b[1m     \u001b[0m│\u001b[90m Symbol       \u001b[0m\u001b[90m Union…    \u001b[0m\u001b[90m Any            \u001b[0m\u001b[90m Union…    \u001b[0m\u001b[90m Any               \u001b[0m\u001b[90m \u001b[0m ⋯\n",
       "─────┼──────────────────────────────────────────────────────────────────────────\n",
       "   1 │ Algorithm    \u001b[90m           \u001b[0m mandelbrot_omp \u001b[90m           \u001b[0m mandelbrot_seq      ⋯\n",
       "   2 │ Image        \u001b[90m           \u001b[0m elephant.log   \u001b[90m           \u001b[0m triple_spiral.log\n",
       "   3 │ Size          1636.8     16              384.0      8192\n",
       "   4 │ Threads       9.76923    1               4.0        32\n",
       "   5 │ Time          2.68384    0.0005556       0.005314   103.164             ⋯\n",
       "   6 │ Stddev        0.0139304  7.69e-6         0.0002905  0.237\n",
       "   7 │ Clock        \u001b[90m           \u001b[0m 0.27           \u001b[90m           \u001b[0m 996.22\n",
       "   8 │ CPUs          4.18531    0.4             1.636      28.868\n",
       "   9 │ Cycles       \u001b[90m           \u001b[0m 1,025,999,471  \u001b[90m           \u001b[0m 98,973,475,178      ⋯\n",
       "  10 │ Instructions \u001b[90m           \u001b[0m 1,000,045      \u001b[90m           \u001b[0m 999,835\n",
       "  11 │ IO            0.0        0               0.0        0\n",
       "  12 │ MemAlloc      0.333333   0               0.0        1\n",
       "  13 │ O3            0.333333   0               0.0        1                   ⋯\n",
       "\u001b[36m                                                               2 columns omitted\u001b[0m"
      ]
     },
     "execution_count": 16,
     "metadata": {},
     "output_type": "execute_result"
    }
   ],
   "source": [
    "describe(df)"
   ]
  },
  {
   "cell_type": "code",
   "execution_count": 27,
   "id": "brave-thumb",
   "metadata": {},
   "outputs": [
    {
     "data": {
      "text/html": [
       "<table class=\"data-frame\"><thead><tr><th></th><th>Algorithm</th><th>Image</th><th>Size</th><th>Threads</th><th>Time</th><th>Stddev</th><th>Clock</th><th>CPUs</th></tr><tr><th></th><th>String</th><th>String</th><th>Int64</th><th>Int64</th><th>Float64</th><th>Float64</th><th>String</th><th>Float64</th></tr></thead><tbody><p>5 rows × 13 columns (omitted printing of 5 columns)</p><tr><th>1</th><td>mandelbrot_seq</td><td>elephant.log</td><td>16</td><td>1</td><td>0.001221</td><td>4.25e-5</td><td>0.87</td><td>0.709</td></tr><tr><th>2</th><td>mandelbrot_seq</td><td>elephant.log</td><td>32</td><td>1</td><td>0.00255</td><td>0.000221</td><td>2.16</td><td>0.849</td></tr><tr><th>3</th><td>mandelbrot_seq</td><td>elephant.log</td><td>64</td><td>1</td><td>0.009084</td><td>0.000776</td><td>8.7</td><td>0.958</td></tr><tr><th>4</th><td>mandelbrot_seq</td><td>elephant.log</td><td>128</td><td>1</td><td>0.02641</td><td>0.000716</td><td>26.04</td><td>0.986</td></tr><tr><th>5</th><td>mandelbrot_seq</td><td>elephant.log</td><td>256</td><td>1</td><td>0.09824</td><td>0.00904</td><td>97.76</td><td>0.995</td></tr></tbody></table>"
      ],
      "text/latex": [
       "\\begin{tabular}{r|ccccccccc}\n",
       "\t& Algorithm & Image & Size & Threads & Time & Stddev & Clock & CPUs & \\\\\n",
       "\t\\hline\n",
       "\t& String & String & Int64 & Int64 & Float64 & Float64 & String & Float64 & \\\\\n",
       "\t\\hline\n",
       "\t1 & mandelbrot\\_seq & elephant.log & 16 & 1 & 0.001221 & 4.25e-5 & 0.87 & 0.709 & $\\dots$ \\\\\n",
       "\t2 & mandelbrot\\_seq & elephant.log & 32 & 1 & 0.00255 & 0.000221 & 2.16 & 0.849 & $\\dots$ \\\\\n",
       "\t3 & mandelbrot\\_seq & elephant.log & 64 & 1 & 0.009084 & 0.000776 & 8.7 & 0.958 & $\\dots$ \\\\\n",
       "\t4 & mandelbrot\\_seq & elephant.log & 128 & 1 & 0.02641 & 0.000716 & 26.04 & 0.986 & $\\dots$ \\\\\n",
       "\t5 & mandelbrot\\_seq & elephant.log & 256 & 1 & 0.09824 & 0.00904 & 97.76 & 0.995 & $\\dots$ \\\\\n",
       "\\end{tabular}\n"
      ],
      "text/plain": [
       "\u001b[1m5×13 DataFrame\u001b[0m\n",
       "\u001b[1m Row \u001b[0m│\u001b[1m Algorithm      \u001b[0m\u001b[1m Image        \u001b[0m\u001b[1m Size  \u001b[0m\u001b[1m Threads \u001b[0m\u001b[1m Time     \u001b[0m\u001b[1m Stddev   \u001b[0m\u001b[1m Clock\u001b[0m ⋯\n",
       "\u001b[1m     \u001b[0m│\u001b[90m String         \u001b[0m\u001b[90m String       \u001b[0m\u001b[90m Int64 \u001b[0m\u001b[90m Int64   \u001b[0m\u001b[90m Float64  \u001b[0m\u001b[90m Float64  \u001b[0m\u001b[90m Strin\u001b[0m ⋯\n",
       "─────┼──────────────────────────────────────────────────────────────────────────\n",
       "   1 │ mandelbrot_seq  elephant.log     16        1  0.001221  4.25e-5   0.87  ⋯\n",
       "   2 │ mandelbrot_seq  elephant.log     32        1  0.00255   0.000221  2.16\n",
       "   3 │ mandelbrot_seq  elephant.log     64        1  0.009084  0.000776  8.7\n",
       "   4 │ mandelbrot_seq  elephant.log    128        1  0.02641   0.000716  26.04\n",
       "   5 │ mandelbrot_seq  elephant.log    256        1  0.09824   0.00904   97.76 ⋯\n",
       "\u001b[36m                                                               7 columns omitted\u001b[0m"
      ]
     },
     "execution_count": 27,
     "metadata": {},
     "output_type": "execute_result"
    }
   ],
   "source": [
    "# Filtrando observações sem a flag O3\n",
    "df_not_o3 = filter(row -> row.O3 == 0, df)\n",
    "first(df, 5)"
   ]
  }
 ],
 "metadata": {
  "kernelspec": {
   "display_name": "Julia 1.6.1",
   "language": "julia",
   "name": "julia-1.6"
  },
  "language_info": {
   "file_extension": ".jl",
   "mimetype": "application/julia",
   "name": "julia",
   "version": "1.6.1"
  }
 },
 "nbformat": 4,
 "nbformat_minor": 5
}
